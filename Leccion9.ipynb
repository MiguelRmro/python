{
 "cells": [
  {
   "cell_type": "markdown",
   "id": "5d2aabc4",
   "metadata": {},
   "source": [
    "# PRACTICA 2: LEYENDO DATOS DESDE EL TECLADO Y MANEJO DE ERRORES"
   ]
  },
  {
   "cell_type": "markdown",
   "id": "8266d1f2",
   "metadata": {},
   "source": [
    "## En este segundo proyecto implementaremos un programa que cumpla estos requisitos:\n",
    "\n",
    "## Debe aceptar tres variables de entrada numéricas introducidas por el usuario desde el teclado (a, b, c)\n",
    "\n",
    "## Debe imprimir en pantalla una tabla similar a la siguiente:\n",
    "\n",
    "###  a,b,c      5,2,10\n",
    "###  a+b+c      17\n",
    "###  a*b*c      -7\n",
    "###  a*b/c      100"
   ]
  },
  {
   "cell_type": "markdown",
   "id": "604786f4",
   "metadata": {},
   "source": [
    "# 1. Entrada de datos desde el teclado "
   ]
  },
  {
   "cell_type": "code",
   "execution_count": null,
   "id": "b4ca72bf",
   "metadata": {},
   "outputs": [],
   "source": []
  },
  {
   "cell_type": "code",
   "execution_count": 2,
   "id": "1566974b",
   "metadata": {},
   "outputs": [
    {
     "name": "stdout",
     "output_type": "stream",
     "text": [
      "Introducta el dato a: 7.3\n",
      "Introducta el dato b: 12.1\n",
      "Introducta el dato c: 6.7\n"
     ]
    }
   ],
   "source": [
    "a= input('Introducta el dato a: ')\n",
    "b= input('Introducta el dato b: ')\n",
    "c= input('Introducta el dato c: ')"
   ]
  },
  {
   "cell_type": "markdown",
   "id": "399847be",
   "metadata": {},
   "source": [
    "## 2. Calculos"
   ]
  },
  {
   "cell_type": "code",
   "execution_count": 5,
   "id": "6381efe0",
   "metadata": {},
   "outputs": [
    {
     "data": {
      "text/plain": [
       "float"
      ]
     },
     "execution_count": 5,
     "metadata": {},
     "output_type": "execute_result"
    }
   ],
   "source": [
    "a = float(a)\n",
    "b = float(b)\n",
    "c = float(c)\n",
    "type(a)"
   ]
  },
  {
   "cell_type": "code",
   "execution_count": 6,
   "id": "a7830508",
   "metadata": {},
   "outputs": [],
   "source": [
    "suma = a + b + c\n",
    "multip = a*b*c\n",
    "multip_div = a*b/c"
   ]
  },
  {
   "cell_type": "markdown",
   "id": "420b36b6",
   "metadata": {},
   "source": [
    "## 3. Imprimir la tabla"
   ]
  },
  {
   "cell_type": "code",
   "execution_count": 7,
   "id": "fd9c8e19",
   "metadata": {},
   "outputs": [
    {
     "name": "stdout",
     "output_type": "stream",
     "text": [
      "a,b,c\t\t 7.3, 12.1, 6.7\n",
      "a+b+c\t\t 26.099999999999998\n",
      "a*b*c\t\t 591.811\n",
      "a*b/c\t\t 13.183582089552239\n"
     ]
    }
   ],
   "source": [
    "# Primera línea\n",
    "print(\"a,b,c\\t\\t\",str(a)+', '+str(b)+', '+str(c))\n",
    "\n",
    "# Segunda línea\n",
    "print(\"a+b+c\\t\\t\",str(suma))\n",
    "\n",
    "# Tercera línea\n",
    "print(\"a*b*c\\t\\t\", str(multip))\n",
    "\n",
    "# Cuarta línea\n",
    "print(\"a*b/c\\t\\t\", str(multip_div))"
   ]
  },
  {
   "cell_type": "code",
   "execution_count": null,
   "id": "ebd18ddb",
   "metadata": {},
   "outputs": [],
   "source": []
  }
 ],
 "metadata": {
  "kernelspec": {
   "display_name": "Python 3 (ipykernel)",
   "language": "python",
   "name": "python3"
  },
  "language_info": {
   "codemirror_mode": {
    "name": "ipython",
    "version": 3
   },
   "file_extension": ".py",
   "mimetype": "text/x-python",
   "name": "python",
   "nbconvert_exporter": "python",
   "pygments_lexer": "ipython3",
   "version": "3.11.4"
  }
 },
 "nbformat": 4,
 "nbformat_minor": 5
}
