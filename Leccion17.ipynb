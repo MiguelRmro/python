{
 "cells": [
  {
   "cell_type": "markdown",
   "id": "f189e2d9",
   "metadata": {},
   "source": [
    "# PRÁCTICA 4: INVIRTIENDO EN LA BOLSA\n",
    "## En esta práctica haremos uso de las sentencias while, for, if y break para implementar un programa capaz de estimar las ganancias que tendremos al invertir en la bolsa.\n",
    "\n",
    "### El programa debe considerar estos aspectos:\n",
    "\n",
    "### El usuario definirá el monto invertido inicialmente y la tasa de interés mensual esperada\n",
    "### Con esta información deberá calcular el saldo actualizado y deberá detener su ejecución cuando las ganancias superen el monto invertido inicialmente.\n",
    "### En pantalla debe imprimir la evolución del saldo y al finalizar imprimir la cantidad de meses requerida para lograr la meta."
   ]
  },
  {
   "cell_type": "markdown",
   "id": "9980ce11",
   "metadata": {},
   "source": [
    "# Implementación usando while"
   ]
  },
  {
   "cell_type": "code",
   "execution_count": 4,
   "id": "470ee0fb",
   "metadata": {},
   "outputs": [
    {
     "name": "stdout",
     "output_type": "stream",
     "text": [
      "Introduzca el monto inicial a invertir: 50000\n",
      "Introduzca la tasa de interés mensual (ejemplo: 0.8%): 2.0%\n",
      "Mes: 1. Saldo: 51000.0\n",
      "Mes: 2. Saldo: 52020.0\n",
      "Mes: 3. Saldo: 53060.4\n",
      "Mes: 4. Saldo: 54121.6\n",
      "Mes: 5. Saldo: 55204.0\n",
      "Mes: 6. Saldo: 56308.1\n",
      "Mes: 7. Saldo: 57434.3\n",
      "Mes: 8. Saldo: 58583.0\n",
      "Mes: 9. Saldo: 59754.6\n",
      "Mes: 10. Saldo: 60949.7\n",
      "Mes: 11. Saldo: 62168.7\n",
      "Mes: 12. Saldo: 63412.1\n",
      "Mes: 13. Saldo: 64680.3\n",
      "Mes: 14. Saldo: 65973.9\n",
      "Mes: 15. Saldo: 67293.4\n",
      "Mes: 16. Saldo: 68639.3\n",
      "Mes: 17. Saldo: 70012.1\n",
      "Mes: 18. Saldo: 71412.3\n",
      "Mes: 19. Saldo: 72840.6\n",
      "Mes: 20. Saldo: 74297.4\n",
      "Mes: 21. Saldo: 75783.3\n",
      "Mes: 22. Saldo: 77299.0\n",
      "Mes: 23. Saldo: 78845.0\n",
      "Mes: 24. Saldo: 80421.9\n",
      "Mes: 25. Saldo: 82030.3\n",
      "Mes: 26. Saldo: 83670.9\n",
      "Mes: 27. Saldo: 85344.3\n",
      "Mes: 28. Saldo: 87051.2\n",
      "Mes: 29. Saldo: 88792.2\n",
      "Mes: 30. Saldo: 90568.1\n",
      "Mes: 31. Saldo: 92379.4\n",
      "Mes: 32. Saldo: 94227.0\n",
      "Mes: 33. Saldo: 96111.6\n",
      "Mes: 34. Saldo: 98033.8\n",
      "Mes: 35. Saldo: 99994.5\n",
      "Mes: 36. Saldo: 101994.4\n",
      "Se requieren 36 meses para que las ganancias sean iguales al monto inicial\n"
     ]
    }
   ],
   "source": [
    "# 1. Introducir saldo inicial\n",
    "# 2. Introducir tasa de interés mensual\n",
    "# 3. ciclo \"while\" sobre las ganancias:\n",
    "#    3.1 Actualizar el mes, el saldo y las ganancias\n",
    "#    3.2 Imprimir mensaje en cada iteración\n",
    "# 4. Imprimir mensaje final\n",
    "\n",
    "# 1. Introducir saldo inicial\n",
    "saldo_inicial = float(input('Introduzca el monto inicial a invertir: '))\n",
    "\n",
    "# 2. Introducir tasa de interés mensual\n",
    "tasa_interes = input('Introduzca la tasa de interés mensual (ejemplo: 0.8%): ')\n",
    "\n",
    "# 2a. Reajustar el str \"tasa_interes\"\n",
    "tasa_interes = tasa_interes.replace(\"%\",\"\")\n",
    "tasa_interes = float(tasa_interes)\n",
    "\n",
    "# 3. While\n",
    "# 3a. Inicializar ganancias y mes\n",
    "saldo = saldo_inicial\n",
    "mes = 0\n",
    "ganancias = saldo - saldo_inicial\n",
    "\n",
    "while ganancias < saldo_inicial:\n",
    "    # 3.1. Actualizar mes, saldo y ganancias\n",
    "    mes += 1\n",
    "    saldo += saldo*tasa_interes/100\n",
    "    ganancias = saldo - saldo_inicial\n",
    "    \n",
    "    # 3.2. Imprimir el mensaje indicando mes y saldo\n",
    "    print(f'Mes: {mes}. Saldo: {saldo:.1f}')\n",
    "# 4. Imprimir el mensaje final\n",
    "print(f'Se requieren {mes} meses para que las ganancias sean iguales al monto inicial')\n",
    "\n"
   ]
  },
  {
   "cell_type": "code",
   "execution_count": 3,
   "id": "c35d5828",
   "metadata": {},
   "outputs": [
    {
     "name": "stdout",
     "output_type": "stream",
     "text": [
      "Introduzca el monto inicial a invertir: 50000\n",
      "Introduzca la tasa de interés mensual (ejemplo: 0.8%): 35%\n",
      "Mes: 1. Saldo: 67500.0\n",
      "Mes: 2. Saldo: 91125.0\n",
      "***Las ganancias son iguales o superiores al monto inicial***\n",
      "Se requieren 3 meses para que las ganancias sean iguales al monto inicial\n"
     ]
    }
   ],
   "source": [
    "# 1. Introducir saldo inicial\n",
    "# 2. Introducir tasa de interés mensual\n",
    "# 3. ciclo \"for\" por un número pre-establecido de meses:\n",
    "#    3.1 Actualizar el saldo y las ganancias\n",
    "#    3.2 Detener ejecución del ciclo si las ganancias igualan el monto inicial\n",
    "#    3.3 Imprimir mensaje en cada iteración\n",
    "# 4. Imprimir mensaje final\n",
    "\n",
    "# 1. Introducir saldo inicial\n",
    "saldo_inicial = float(input('Introduzca el monto inicial a invertir: '))\n",
    "\n",
    "# 2. Introducir tasa de interés mensual\n",
    "tasa_interes = input('Introduzca la tasa de interés mensual (ejemplo: 0.8%): ')\n",
    "\n",
    "# 2a. Reajustar el str \"tasa_interes\"\n",
    "tasa_interes = tasa_interes.replace(\"%\",\"\")\n",
    "tasa_interes = float(tasa_interes)\n",
    "\n",
    "# Ciclo \"for\"\n",
    "# 3a. Inicializar ganancias y el saldo\n",
    "saldo = saldo_inicial\n",
    "ganancias = saldo - saldo_inicial\n",
    "for mes in range(1,201):\n",
    "    # 3.1 Actualizar el saldo y las ganancias\n",
    "    saldo += saldo*tasa_interes/100\n",
    "    ganancias = saldo - saldo_inicial\n",
    "    \n",
    "    # 3.2 Detener ejecución del ciclo si las ganancias igualan el monto inicial\n",
    "    if ganancias >= saldo_inicial:\n",
    "        print('***Las ganancias son iguales o superiores al monto inicial***')\n",
    "        break\n",
    "    \n",
    "    # 3.3 Imprimir mensaje en pantalla\n",
    "    print(f'Mes: {mes}. Saldo: {saldo:.1f}')\n",
    "# 4. Imprimir el mensaje final\n",
    "print(f'Se requieren {mes} meses para que las ganancias sean iguales al monto inicial')\n",
    "\n",
    "    "
   ]
  },
  {
   "cell_type": "code",
   "execution_count": null,
   "id": "631ad3b7",
   "metadata": {},
   "outputs": [],
   "source": []
  }
 ],
 "metadata": {
  "kernelspec": {
   "display_name": "Python 3 (ipykernel)",
   "language": "python",
   "name": "python3"
  },
  "language_info": {
   "codemirror_mode": {
    "name": "ipython",
    "version": 3
   },
   "file_extension": ".py",
   "mimetype": "text/x-python",
   "name": "python",
   "nbconvert_exporter": "python",
   "pygments_lexer": "ipython3",
   "version": "3.11.4"
  }
 },
 "nbformat": 4,
 "nbformat_minor": 5
}
