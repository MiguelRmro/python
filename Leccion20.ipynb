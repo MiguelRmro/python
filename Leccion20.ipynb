{
 "cells": [
  {
   "cell_type": "markdown",
   "id": "55bf612b",
   "metadata": {},
   "source": [
    "# ARGUMENTOS POSICIONALES, POR PALABRA CLAVE Y POR DEFECTO\n",
    "Como una función puede tener múltiples parámetros de entrada, al momento de llamarla podemos llamarla presentando los argumentos de diferentes formas. Veamos en detalle las diferentes maneras de hacerlo"
   ]
  },
  {
   "cell_type": "markdown",
   "id": "c3db117a",
   "metadata": {},
   "source": [
    "# Argumentos posicionales\n",
    "Deben ser presentados en el mismo orden usado en los parámetros de la definición de la función."
   ]
  },
  {
   "cell_type": "code",
   "execution_count": 1,
   "id": "4fcfc390",
   "metadata": {},
   "outputs": [],
   "source": [
    "def mostrar_texto_numero(texto,numero):\n",
    "    print(f'{texto}: {numero}')"
   ]
  },
  {
   "cell_type": "code",
   "execution_count": 2,
   "id": "c7605043",
   "metadata": {},
   "outputs": [
    {
     "name": "stdout",
     "output_type": "stream",
     "text": [
      "El número cinco se escribe como: 5\n"
     ]
    }
   ],
   "source": [
    "mostrar_texto_numero('El número cinco se escribe como',5)"
   ]
  },
  {
   "cell_type": "code",
   "execution_count": 3,
   "id": "d3c02889",
   "metadata": {},
   "outputs": [
    {
     "name": "stdout",
     "output_type": "stream",
     "text": [
      "5: El número cinco se escribe como\n"
     ]
    }
   ],
   "source": [
    "mostrar_texto_numero(5,'El número cinco se escribe como')"
   ]
  },
  {
   "cell_type": "markdown",
   "id": "8e8a1036",
   "metadata": {},
   "source": [
    "# Argumentos por palabra clave\n",
    "Si queremos pasar los argumentos en un orden arbitrario lo debemos hacer por palabra clave. En este caso, al llamar la función usamos pares nombre-valor."
   ]
  },
  {
   "cell_type": "code",
   "execution_count": 4,
   "id": "49224259",
   "metadata": {},
   "outputs": [
    {
     "name": "stdout",
     "output_type": "stream",
     "text": [
      "El número cinco se escribe como: 5\n"
     ]
    }
   ],
   "source": [
    "mostrar_texto_numero(numero=5, texto='El número cinco se escribe como')"
   ]
  },
  {
   "cell_type": "code",
   "execution_count": 5,
   "id": "72a888a5",
   "metadata": {},
   "outputs": [
    {
     "name": "stdout",
     "output_type": "stream",
     "text": [
      "El número cinco se escribe como: 5\n"
     ]
    }
   ],
   "source": [
    "mostrar_texto_numero(texto='El número cinco se escribe como', numero=5)"
   ]
  },
  {
   "cell_type": "markdown",
   "id": "8fa4237c",
   "metadata": {},
   "source": [
    "# Argumentos por posición y por palabra clave\n",
    "Podemos usar una combinación de las dos formas de llamado anteriores, presentando por ejemplo argumentos posicionales seguidos de argumentos por palabra clave:"
   ]
  },
  {
   "cell_type": "code",
   "execution_count": 6,
   "id": "077783a6",
   "metadata": {},
   "outputs": [
    {
     "name": "stdout",
     "output_type": "stream",
     "text": [
      "El número cinco se escribe como: 5\n"
     ]
    }
   ],
   "source": [
    "mostrar_texto_numero('El número cinco se escribe como', numero=5)"
   ]
  },
  {
   "cell_type": "code",
   "execution_count": 7,
   "id": "e3b365d8",
   "metadata": {},
   "outputs": [
    {
     "ename": "SyntaxError",
     "evalue": "positional argument follows keyword argument (3155675448.py, line 1)",
     "output_type": "error",
     "traceback": [
      "\u001b[1;36m  Cell \u001b[1;32mIn[7], line 1\u001b[1;36m\u001b[0m\n\u001b[1;33m    mostrar_texto_numero(numero=5, 'El número cinco se escribe como')\u001b[0m\n\u001b[1;37m                                                                    ^\u001b[0m\n\u001b[1;31mSyntaxError\u001b[0m\u001b[1;31m:\u001b[0m positional argument follows keyword argument\n"
     ]
    }
   ],
   "source": [
    "mostrar_texto_numero(numero=5, 'El número cinco se escribe como')"
   ]
  },
  {
   "cell_type": "markdown",
   "id": "0caad7c2",
   "metadata": {},
   "source": [
    "# Argumentos por defecto\n",
    "Finalmente, podemos asignar valores por defecto a todos o algunos de los parámetros en una función. De esta manera, si al llamarla no introducimos ningún argumento la función usará los valores por defecto asignados al momento de la definición:"
   ]
  },
  {
   "cell_type": "code",
   "execution_count": 8,
   "id": "0ae85cd9",
   "metadata": {},
   "outputs": [],
   "source": [
    "def mostrar_texto_numero(texto='El número diez se escribe como', numero=10):\n",
    "    print(f'{texto}: {numero}')"
   ]
  },
  {
   "cell_type": "code",
   "execution_count": 9,
   "id": "2740c7d0",
   "metadata": {},
   "outputs": [
    {
     "name": "stdout",
     "output_type": "stream",
     "text": [
      "El número diez se escribe como: 10\n"
     ]
    }
   ],
   "source": [
    "mostrar_texto_numero()"
   ]
  },
  {
   "cell_type": "code",
   "execution_count": 10,
   "id": "9ea4c45f",
   "metadata": {},
   "outputs": [
    {
     "name": "stdout",
     "output_type": "stream",
     "text": [
      "El número dos se escribe como: 2\n"
     ]
    }
   ],
   "source": [
    "mostrar_texto_numero('El número dos se escribe como', 2)"
   ]
  },
  {
   "cell_type": "code",
   "execution_count": 11,
   "id": "b3b97502",
   "metadata": {},
   "outputs": [
    {
     "name": "stdout",
     "output_type": "stream",
     "text": [
      "El número dos se escribe como: 10\n"
     ]
    }
   ],
   "source": [
    "mostrar_texto_numero('El número dos se escribe como')"
   ]
  },
  {
   "cell_type": "code",
   "execution_count": 12,
   "id": "51a9ac7c",
   "metadata": {},
   "outputs": [
    {
     "name": "stdout",
     "output_type": "stream",
     "text": [
      "El número cinco se escribe como: 5\n"
     ]
    }
   ],
   "source": [
    "mostrar_texto_numero('El número cinco se escribe como', numero=5)"
   ]
  },
  {
   "cell_type": "code",
   "execution_count": 13,
   "id": "934da659",
   "metadata": {},
   "outputs": [
    {
     "name": "stdout",
     "output_type": "stream",
     "text": [
      "El número ocho se escribe como: 8\n"
     ]
    }
   ],
   "source": [
    "mostrar_texto_numero(numero=8, texto='El número ocho se escribe como')"
   ]
  },
  {
   "cell_type": "code",
   "execution_count": null,
   "id": "ac6b4cda",
   "metadata": {},
   "outputs": [],
   "source": []
  }
 ],
 "metadata": {
  "kernelspec": {
   "display_name": "Python 3 (ipykernel)",
   "language": "python",
   "name": "python3"
  },
  "language_info": {
   "codemirror_mode": {
    "name": "ipython",
    "version": 3
   },
   "file_extension": ".py",
   "mimetype": "text/x-python",
   "name": "python",
   "nbconvert_exporter": "python",
   "pygments_lexer": "ipython3",
   "version": "3.11.4"
  }
 },
 "nbformat": 4,
 "nbformat_minor": 5
}
