{
 "cells": [
  {
   "cell_type": "markdown",
   "id": "dee8db49",
   "metadata": {},
   "source": [
    "# !Nuestro Primer Notebok!\n",
    "## Operadores Básicos"
   ]
  },
  {
   "cell_type": "code",
   "execution_count": 3,
   "id": "d4b6dde1",
   "metadata": {},
   "outputs": [
    {
     "data": {
      "text/plain": [
       "15.7"
      ]
     },
     "execution_count": 3,
     "metadata": {},
     "output_type": "execute_result"
    }
   ],
   "source": [
    "# suma \n",
    "5 + 7.2 + 3.5"
   ]
  },
  {
   "cell_type": "code",
   "execution_count": 4,
   "id": "1ffff044",
   "metadata": {},
   "outputs": [
    {
     "data": {
      "text/plain": [
       "-4"
      ]
     },
     "execution_count": 4,
     "metadata": {},
     "output_type": "execute_result"
    }
   ],
   "source": [
    "# Resta\n",
    "8 - 3 - 9"
   ]
  },
  {
   "cell_type": "code",
   "execution_count": 5,
   "id": "657ac38e",
   "metadata": {},
   "outputs": [
    {
     "data": {
      "text/plain": [
       "414"
      ]
     },
     "execution_count": 5,
     "metadata": {},
     "output_type": "execute_result"
    }
   ],
   "source": [
    "# Multipicacion\n",
    "2 * 9 * 23"
   ]
  },
  {
   "cell_type": "code",
   "execution_count": 6,
   "id": "489fb936",
   "metadata": {},
   "outputs": [
    {
     "data": {
      "text/plain": [
       "0.42857142857142855"
      ]
     },
     "execution_count": 6,
     "metadata": {},
     "output_type": "execute_result"
    }
   ],
   "source": [
    "# Division\n",
    "3 / 7"
   ]
  },
  {
   "cell_type": "code",
   "execution_count": 8,
   "id": "225dd519",
   "metadata": {},
   "outputs": [
    {
     "data": {
      "text/plain": [
       "1"
      ]
     },
     "execution_count": 8,
     "metadata": {},
     "output_type": "execute_result"
    }
   ],
   "source": [
    "# Módulo: residuo de la division:\n",
    "16%3\n"
   ]
  },
  {
   "cell_type": "code",
   "execution_count": 9,
   "id": "eec8baa5",
   "metadata": {},
   "outputs": [
    {
     "data": {
      "text/plain": [
       "5"
      ]
     },
     "execution_count": 9,
     "metadata": {},
     "output_type": "execute_result"
    }
   ],
   "source": [
    "# divisio aproximada al entero mas pequeño \n",
    "16//3"
   ]
  },
  {
   "cell_type": "code",
   "execution_count": 11,
   "id": "9dd4e10f",
   "metadata": {},
   "outputs": [
    {
     "data": {
      "text/plain": [
       "125"
      ]
     },
     "execution_count": 11,
     "metadata": {},
     "output_type": "execute_result"
    }
   ],
   "source": [
    "# Elevar un numero a una potencia \n",
    "5**3"
   ]
  },
  {
   "cell_type": "markdown",
   "id": "0ba4f946",
   "metadata": {},
   "source": [
    "## Precendia de los operadores \n"
   ]
  },
  {
   "cell_type": "code",
   "execution_count": 12,
   "id": "90a59bed",
   "metadata": {},
   "outputs": [
    {
     "data": {
      "text/plain": [
       "4.0"
      ]
     },
     "execution_count": 12,
     "metadata": {},
     "output_type": "execute_result"
    }
   ],
   "source": [
    "# Multiplicacio precede division\n",
    "5*2/2.5"
   ]
  },
  {
   "cell_type": "code",
   "execution_count": 13,
   "id": "4ee58435",
   "metadata": {},
   "outputs": [
    {
     "data": {
      "text/plain": [
       "4.5"
      ]
     },
     "execution_count": 13,
     "metadata": {},
     "output_type": "execute_result"
    }
   ],
   "source": [
    "# Multiplicacion o Division preceden suma  o resta\n",
    "5-2/4"
   ]
  },
  {
   "cell_type": "code",
   "execution_count": 14,
   "id": "93d791c8",
   "metadata": {},
   "outputs": [
    {
     "data": {
      "text/plain": [
       "4.0"
      ]
     },
     "execution_count": 14,
     "metadata": {},
     "output_type": "execute_result"
    }
   ],
   "source": [
    "5*(2/2.5)"
   ]
  },
  {
   "cell_type": "code",
   "execution_count": 15,
   "id": "76bc1aaa",
   "metadata": {},
   "outputs": [
    {
     "data": {
      "text/plain": [
       "0.75"
      ]
     },
     "execution_count": 15,
     "metadata": {},
     "output_type": "execute_result"
    }
   ],
   "source": [
    "# Los parentesis preceden cualquier otra operacion\n",
    "(5-2)/4"
   ]
  },
  {
   "cell_type": "code",
   "execution_count": null,
   "id": "e47b574e",
   "metadata": {},
   "outputs": [],
   "source": []
  }
 ],
 "metadata": {
  "kernelspec": {
   "display_name": "Python 3 (ipykernel)",
   "language": "python",
   "name": "python3"
  },
  "language_info": {
   "codemirror_mode": {
    "name": "ipython",
    "version": 3
   },
   "file_extension": ".py",
   "mimetype": "text/x-python",
   "name": "python",
   "nbconvert_exporter": "python",
   "pygments_lexer": "ipython3",
   "version": "3.11.4"
  }
 },
 "nbformat": 4,
 "nbformat_minor": 5
}
