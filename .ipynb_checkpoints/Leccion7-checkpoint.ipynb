{
 "cells": [
  {
   "cell_type": "markdown",
   "id": "c476cc0f",
   "metadata": {},
   "source": [
    "# Tipos de Datos \n",
    "## 1. String "
   ]
  },
  {
   "cell_type": "code",
   "execution_count": 1,
   "id": "85610b7b",
   "metadata": {},
   "outputs": [],
   "source": [
    "texto1 = \"Este es un ejemplo de texto\""
   ]
  },
  {
   "cell_type": "code",
   "execution_count": 2,
   "id": "86a963c7",
   "metadata": {},
   "outputs": [
    {
     "data": {
      "text/plain": [
       "str"
      ]
     },
     "execution_count": 2,
     "metadata": {},
     "output_type": "execute_result"
    }
   ],
   "source": [
    "type(texto1)"
   ]
  },
  {
   "cell_type": "code",
   "execution_count": 3,
   "id": "d1b97cf0",
   "metadata": {},
   "outputs": [],
   "source": [
    "texto2 = 'Este es un segundo texto'"
   ]
  },
  {
   "cell_type": "code",
   "execution_count": 4,
   "id": "ec8e9423",
   "metadata": {},
   "outputs": [
    {
     "data": {
      "text/plain": [
       "str"
      ]
     },
     "execution_count": 4,
     "metadata": {},
     "output_type": "execute_result"
    }
   ],
   "source": [
    "type(texto2)"
   ]
  },
  {
   "cell_type": "code",
   "execution_count": 5,
   "id": "f904815b",
   "metadata": {},
   "outputs": [],
   "source": [
    "texto3 = 'Este es un tercer ejemplo, con un \"texto entre comillas\"'"
   ]
  },
  {
   "cell_type": "code",
   "execution_count": 6,
   "id": "027f78e5",
   "metadata": {},
   "outputs": [
    {
     "data": {
      "text/plain": [
       "str"
      ]
     },
     "execution_count": 6,
     "metadata": {},
     "output_type": "execute_result"
    }
   ],
   "source": [
    "type(texto3)"
   ]
  },
  {
   "cell_type": "code",
   "execution_count": 7,
   "id": "0dedbb38",
   "metadata": {},
   "outputs": [
    {
     "name": "stdout",
     "output_type": "stream",
     "text": [
      "Este es un tercer ejemplo, con un \"texto entre comillas\"\n"
     ]
    }
   ],
   "source": [
    "print(texto3)"
   ]
  },
  {
   "cell_type": "code",
   "execution_count": 8,
   "id": "a8258bbc",
   "metadata": {},
   "outputs": [],
   "source": [
    "texto = texto1 +  ' ' + texto2 + ' ' + texto3"
   ]
  },
  {
   "cell_type": "code",
   "execution_count": 9,
   "id": "92b22777",
   "metadata": {},
   "outputs": [
    {
     "name": "stdout",
     "output_type": "stream",
     "text": [
      "Este es un ejemplo de texto Este es un segundo texto Este es un tercer ejemplo, con un \"texto entre comillas\"\n"
     ]
    }
   ],
   "source": [
    "print(texto)"
   ]
  },
  {
   "cell_type": "code",
   "execution_count": 10,
   "id": "f7d0ab7d",
   "metadata": {},
   "outputs": [
    {
     "ename": "IndentationError",
     "evalue": "unexpected indent (925191343.py, line 2)",
     "output_type": "error",
     "traceback": [
      "\u001b[1;36m  Cell \u001b[1;32mIn[10], line 2\u001b[1;36m\u001b[0m\n\u001b[1;33m    texto4= 'Linea 1\\nLinea 2\\nLinea 3'\u001b[0m\n\u001b[1;37m    ^\u001b[0m\n\u001b[1;31mIndentationError\u001b[0m\u001b[1;31m:\u001b[0m unexpected indent\n"
     ]
    }
   ],
   "source": [
    "# Caracteres de escape\n",
    "    texto4= 'Linea 1\\n Linea 2\\n Linea 3'\n",
    "    print(texto4)"
   ]
  },
  {
   "cell_type": "code",
   "execution_count": null,
   "id": "b091b92b",
   "metadata": {},
   "outputs": [],
   "source": []
  }
 ],
 "metadata": {
  "kernelspec": {
   "display_name": "Python 3 (ipykernel)",
   "language": "python",
   "name": "python3"
  },
  "language_info": {
   "codemirror_mode": {
    "name": "ipython",
    "version": 3
   },
   "file_extension": ".py",
   "mimetype": "text/x-python",
   "name": "python",
   "nbconvert_exporter": "python",
   "pygments_lexer": "ipython3",
   "version": "3.11.4"
  }
 },
 "nbformat": 4,
 "nbformat_minor": 5
}
