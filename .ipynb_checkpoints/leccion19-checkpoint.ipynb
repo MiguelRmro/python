{
 "cells": [
  {
   "cell_type": "markdown",
   "id": "401f7380",
   "metadata": {},
   "source": [
    "# CÓMO CREAR UNA FUNCIÓN EN PYTHON"
   ]
  },
  {
   "cell_type": "markdown",
   "id": "c3e1084b",
   "metadata": {},
   "source": [
    "## Ejemplo 1\n",
    "Convirtamos la siguiente porción de código en una función:"
   ]
  },
  {
   "cell_type": "code",
   "execution_count": 2,
   "id": "59296c4d",
   "metadata": {},
   "outputs": [
    {
     "name": "stdout",
     "output_type": "stream",
     "text": [
      "Introduzca el dato 1: 5\n",
      "Introduzca el dato 2: 7\n",
      "Introduzca el dato 3: 3\n",
      "El número mayor es: 7.0\n"
     ]
    }
   ],
   "source": [
    "# Datos introducidos por el usuario\n",
    "n1 = float(input('Introduzca el dato 1: '))\n",
    "n2 = float(input('Introduzca el dato 2: '))\n",
    "n3 = float(input('Introduzca el dato 3: '))\n",
    "\n",
    "# Determinar cuál es el número mayor\n",
    "if (n1 > n2) and (n1 > n3):\n",
    "    mayor = n1\n",
    "elif (n2 > n1) and (n2 > n3):\n",
    "    mayor = n2\n",
    "else:\n",
    "    mayor = n3\n",
    "\n",
    "print(f'El número mayor es: {mayor}')"
   ]
  },
  {
   "cell_type": "code",
   "execution_count": 4,
   "id": "7f8d0b13",
   "metadata": {},
   "outputs": [],
   "source": [
    "def calcular_maximo():\n",
    "    # Incluir el docstring (opcional)\n",
    "    '''Función que toma 3 datos de entrada, calcula el máximo\n",
    "    y lo imprime en pantalla'''\n",
    "    \n",
    "    # Código que ejecutará la función cuando sea llamada\n",
    "    # Datos introducidos por el usuario\n",
    "    n1 = float(input('Introduzca el dato 1: '))\n",
    "    n2 = float(input('Introduzca el dato 2: '))\n",
    "    n3 = float(input('Introduzca el dato 3: '))\n",
    "\n",
    "    # Determinar cuál es el número mayor\n",
    "    if (n1 > n2) and (n1 > n3):\n",
    "        mayor = n1\n",
    "    elif (n2 > n1) and (n2 > n3):\n",
    "        mayor = n2\n",
    "    else:\n",
    "        mayor = n3\n",
    "\n",
    "    print(f'El número mayor es: {mayor}')\n",
    "    \n",
    "    # Opcional: agregar valores a retornar"
   ]
  },
  {
   "cell_type": "code",
   "execution_count": 5,
   "id": "999ec63d",
   "metadata": {},
   "outputs": [
    {
     "name": "stdout",
     "output_type": "stream",
     "text": [
      "Introduzca el dato 1: 2\n",
      "Introduzca el dato 2: 4\n",
      "Introduzca el dato 3: 5\n",
      "El número mayor es: 5.0\n"
     ]
    }
   ],
   "source": [
    "# Llamar la función desde nuestro programa\n",
    "calcular_maximo()"
   ]
  },
  {
   "cell_type": "markdown",
   "id": "36eb49b4",
   "metadata": {},
   "source": [
    "# Variaciones de la función: parámetros, argumentos y los valores a retornar\n",
    "## Ejemplo 2:"
   ]
  },
  {
   "cell_type": "code",
   "execution_count": 6,
   "id": "46c01336",
   "metadata": {},
   "outputs": [],
   "source": [
    "def calcular_maximo_v2(n1,n2,n3):\n",
    "    # Incluir el docstring (opcional)\n",
    "    '''Función que toma 3 parámetros de entrada, calcula el máximo\n",
    "    y lo imprime en pantalla'''\n",
    "    \n",
    "    # Determinar cuál es el número mayor\n",
    "    if (n1 > n2) and (n1 > n3):\n",
    "        mayor = n1\n",
    "    elif (n2 > n1) and (n2 > n3):\n",
    "        mayor = n2\n",
    "    else:\n",
    "        mayor = n3\n",
    "\n",
    "    print(f'El número mayor es: {mayor}')\n",
    "    \n",
    "    # Opcional: agregar valores a retorna"
   ]
  },
  {
   "cell_type": "code",
   "execution_count": 7,
   "id": "463bef3a",
   "metadata": {},
   "outputs": [
    {
     "name": "stdout",
     "output_type": "stream",
     "text": [
      "El número mayor es: 27\n"
     ]
    }
   ],
   "source": [
    "calcular_maximo_v2(27,12,5.3)"
   ]
  },
  {
   "cell_type": "code",
   "execution_count": 8,
   "id": "06019f64",
   "metadata": {},
   "outputs": [
    {
     "name": "stdout",
     "output_type": "stream",
     "text": [
      "El número mayor es: 9.2\n"
     ]
    }
   ],
   "source": [
    "calcular_maximo_v2(6,5.7,9.2)"
   ]
  },
  {
   "cell_type": "code",
   "execution_count": 9,
   "id": "d0c025f8",
   "metadata": {},
   "outputs": [],
   "source": [
    "# Segunda modificación: agregar valor a retornar\n",
    "\n",
    "def calcular_maximo_v3(n1,n2,n3):\n",
    "    # Incluir el docstring (opcional)\n",
    "    '''Función que toma 3 parámetros de entrada, calcula el máximo\n",
    "    y retorna este valor'''\n",
    "    \n",
    "    # Determinar cuál es el número mayor\n",
    "    if (n1 > n2) and (n1 > n3):\n",
    "        mayor = n1\n",
    "    elif (n2 > n1) and (n2 > n3):\n",
    "        mayor = n2\n",
    "    else:\n",
    "        mayor = n3\n",
    "    \n",
    "    # Opcional: agregar valores a retornar\n",
    "    return mayor"
   ]
  },
  {
   "cell_type": "code",
   "execution_count": 10,
   "id": "d1838b98",
   "metadata": {},
   "outputs": [],
   "source": [
    "maximo_calculado = calcular_maximo_v3(5.6, 2.1, 0.87)"
   ]
  },
  {
   "cell_type": "code",
   "execution_count": 11,
   "id": "975fb87f",
   "metadata": {},
   "outputs": [
    {
     "data": {
      "text/plain": [
       "5.6"
      ]
     },
     "execution_count": 11,
     "metadata": {},
     "output_type": "execute_result"
    }
   ],
   "source": [
    "maximo_calculado"
   ]
  },
  {
   "cell_type": "code",
   "execution_count": 12,
   "id": "e32bac7d",
   "metadata": {},
   "outputs": [],
   "source": [
    "maximo_calculado = calcular_maximo_v3(0.97,5.35,123)"
   ]
  },
  {
   "cell_type": "code",
   "execution_count": 13,
   "id": "c5bdbd33",
   "metadata": {},
   "outputs": [
    {
     "data": {
      "text/plain": [
       "123"
      ]
     },
     "execution_count": 13,
     "metadata": {},
     "output_type": "execute_result"
    }
   ],
   "source": [
    "maximo_calculado"
   ]
  },
  {
   "cell_type": "code",
   "execution_count": null,
   "id": "2746afe0",
   "metadata": {},
   "outputs": [],
   "source": []
  }
 ],
 "metadata": {
  "kernelspec": {
   "display_name": "Python 3 (ipykernel)",
   "language": "python",
   "name": "python3"
  },
  "language_info": {
   "codemirror_mode": {
    "name": "ipython",
    "version": 3
   },
   "file_extension": ".py",
   "mimetype": "text/x-python",
   "name": "python",
   "nbconvert_exporter": "python",
   "pygments_lexer": "ipython3",
   "version": "3.11.4"
  }
 },
 "nbformat": 4,
 "nbformat_minor": 5
}
