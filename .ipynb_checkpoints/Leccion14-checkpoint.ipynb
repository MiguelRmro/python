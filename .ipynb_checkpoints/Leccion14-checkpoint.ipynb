{
 "cells": [
  {
   "cell_type": "markdown",
   "id": "c077046d",
   "metadata": {},
   "source": [
    "# LA SENTENCIA WHILE \n",
    "### while es una sentencia de control que permite ejecutar una porción de código de forma repetitiva mientras se cumpla una cierta condición"
   ]
  },
  {
   "cell_type": "markdown",
   "id": "35e6e343",
   "metadata": {},
   "source": [
    "### Estructura"
   ]
  },
  {
   "cell_type": "code",
   "execution_count": 1,
   "id": "c0710576",
   "metadata": {},
   "outputs": [
    {
     "ename": "SyntaxError",
     "evalue": "incomplete input (1924213505.py, line 5)",
     "output_type": "error",
     "traceback": [
      "\u001b[1;36m  Cell \u001b[1;32mIn[1], line 5\u001b[1;36m\u001b[0m\n\u001b[1;33m    # Línea n a ejecutar\u001b[0m\n\u001b[1;37m                        ^\u001b[0m\n\u001b[1;31mSyntaxError\u001b[0m\u001b[1;31m:\u001b[0m incomplete input\n"
     ]
    }
   ],
   "source": [
    "while condicion:\n",
    "    # Línea 1 a ejecutar\n",
    "    # Línea 2 a ejecutar\n",
    "    # l\n",
    "    # Línea n a ejecutar"
   ]
  },
  {
   "cell_type": "code",
   "execution_count": null,
   "id": "a9783766",
   "metadata": {},
   "outputs": [],
   "source": []
  }
 ],
 "metadata": {
  "kernelspec": {
   "display_name": "Python 3 (ipykernel)",
   "language": "python",
   "name": "python3"
  },
  "language_info": {
   "codemirror_mode": {
    "name": "ipython",
    "version": 3
   },
   "file_extension": ".py",
   "mimetype": "text/x-python",
   "name": "python",
   "nbconvert_exporter": "python",
   "pygments_lexer": "ipython3",
   "version": "3.11.4"
  }
 },
 "nbformat": 4,
 "nbformat_minor": 5
}
