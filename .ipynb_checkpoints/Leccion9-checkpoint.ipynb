{
 "cells": [
  {
   "cell_type": "markdown",
   "id": "6df6fa0d",
   "metadata": {},
   "source": [
    "# PRACTICA 2: LEYENDO DATOS DESDE EL TECLADO Y MANEJO DE ERRORES"
   ]
  },
  {
   "cell_type": "markdown",
   "id": "d7509050",
   "metadata": {},
   "source": [
    "## En este segundo proyecto implementaremos un programa que cumpla estos requisitos:\n",
    "\n",
    "## Debe aceptar tres variables de entrada numéricas introducidas por el usuario desde el teclado (a, b, c)\n",
    "\n",
    "## Debe imprimir en pantalla una tabla similar a la siguiente:\n",
    "\n",
    "###  a,b,c      5,2,10\n",
    "###  a+b+c      17\n",
    "###  a*b*c      -7\n",
    "###  a*b/c      100"
   ]
  },
  {
   "cell_type": "markdown",
   "id": "13cbcfcb",
   "metadata": {},
   "source": [
    "# 1. Entrada de datos desde el teclado "
   ]
  },
  {
   "cell_type": "code",
   "execution_count": null,
   "id": "1cbd6958",
   "metadata": {},
   "outputs": [],
   "source": []
  },
  {
   "cell_type": "code",
   "execution_count": 2,
   "id": "1d08b5dc",
   "metadata": {},
   "outputs": [
    {
     "name": "stdout",
     "output_type": "stream",
     "text": [
      "Introducta el dato a: 7.3\n",
      "Introducta el dato b: 12.1\n",
      "Introducta el dato c: 6.7\n"
     ]
    }
   ],
   "source": [
    "a= input('Introducta el dato a: ')\n",
    "b= input('Introducta el dato b: ')\n",
    "c= input('Introducta el dato c: ')"
   ]
  },
  {
   "cell_type": "markdown",
   "id": "5cb6dde9",
   "metadata": {},
   "source": [
    "## 2. Calculos"
   ]
  },
  {
   "cell_type": "code",
   "execution_count": null,
   "id": "142ba04d",
   "metadata": {},
   "outputs": [],
   "source": [
    "a = float(a)\n",
    "b = float(b)\n",
    "c = float(c)\n",
    "type(a)"
   ]
  },
  {
   "cell_type": "code",
   "execution_count": 4,
   "id": "c4817c15",
   "metadata": {},
   "outputs": [
    {
     "ename": "TypeError",
     "evalue": "can't multiply sequence by non-int of type 'str'",
     "output_type": "error",
     "traceback": [
      "\u001b[1;31m---------------------------------------------------------------------------\u001b[0m",
      "\u001b[1;31mTypeError\u001b[0m                                 Traceback (most recent call last)",
      "Cell \u001b[1;32mIn[4], line 2\u001b[0m\n\u001b[0;32m      1\u001b[0m suma \u001b[38;5;241m=\u001b[39m a \u001b[38;5;241m+\u001b[39m b \u001b[38;5;241m+\u001b[39m c\n\u001b[1;32m----> 2\u001b[0m multip \u001b[38;5;241m=\u001b[39m a\u001b[38;5;241m*\u001b[39mb\u001b[38;5;241m*\u001b[39mc\n\u001b[0;32m      3\u001b[0m multip_div \u001b[38;5;241m=\u001b[39m a\u001b[38;5;241m*\u001b[39mb\u001b[38;5;241m/\u001b[39mc\n",
      "\u001b[1;31mTypeError\u001b[0m: can't multiply sequence by non-int of type 'str'"
     ]
    }
   ],
   "source": [
    "suma = a + b + c\n",
    "multip = a*b*c\n",
    "multip_div = a*b/c"
   ]
  },
  {
   "cell_type": "code",
   "execution_count": null,
   "id": "fd80658e",
   "metadata": {},
   "outputs": [],
   "source": []
  }
 ],
 "metadata": {
  "kernelspec": {
   "display_name": "Python 3 (ipykernel)",
   "language": "python",
   "name": "python3"
  },
  "language_info": {
   "codemirror_mode": {
    "name": "ipython",
    "version": 3
   },
   "file_extension": ".py",
   "mimetype": "text/x-python",
   "name": "python",
   "nbconvert_exporter": "python",
   "pygments_lexer": "ipython3",
   "version": "3.11.4"
  }
 },
 "nbformat": 4,
 "nbformat_minor": 5
}
