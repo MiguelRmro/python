{
 "cells": [
  {
   "cell_type": "markdown",
   "id": "c8c157bf",
   "metadata": {},
   "source": [
    "# PRÁCTICA 3: CALCULANDO EL COSTO DE UNA ENTRADA\n",
    "\n",
    "### En esta práctica implementaremos un programa que sea capaz de calcular el costo de una entrada a un parque de diversiones. Lo interesante acá es que se tendrán diferentes tarifas dependiendo del rango de edad de los visitantes.\n",
    "\n",
    "### Así que la implementación del programa requerirá el uso de varias herramientas que hemos visto hasta el momento: el uso de operadores, el uso de sentencias if, el ingreso de datos desde el teclado y el uso de funciones de Python para mostrar los resultados en pantalla."
   ]
  },
  {
   "cell_type": "markdown",
   "id": "270b4978",
   "metadata": {},
   "source": [
    "# Requerimientos\n",
    "## El programa debe satisfacer los siguientes requerimientos:\n",
    "\n",
    "### Debe aceptar como entrada la edad del visitante, introducida por el usuario a través del teclado.\n",
    "### Debe calcular la tarifa a pagar por el visitante, dependiendo de estos rangos de edad:\n",
    "### 18 a 55 años: tarifa plana sin descuento, 10 dólares\n",
    "### 56 a 70 años: descuento del 5% sobre la tarifa plana\n",
    "### 71 años en adelante: descuento del 10% sobre la tarifa plana\n",
    "### 5 a 17 años: descuento del 20% sobre la tarifa plana\n",
    "### Niños menores de 5 años: descuento del 50% sobre la tarifa plana\n",
    "### Al finalizar debe imprimir en pantalla un mensaje indicando la tarifa a pagar y el descuento aplicado. Por ejemplo: \"El costo de tu entrada es de 50 dólares (descuento aplicado: 50%)\""
   ]
  },
  {
   "cell_type": "markdown",
   "id": "1ff0ea3a",
   "metadata": {},
   "source": [
    "# Implementacion\n"
   ]
  },
  {
   "cell_type": "code",
   "execution_count": null,
   "id": "852fd3e5",
   "metadata": {},
   "outputs": [],
   "source": [
    "#1. Introducir la edad del visitante\n",
    "edad = int(input('Introduzca la edad del visitante: '))"
   ]
  },
  {
   "cell_type": "code",
   "execution_count": 3,
   "id": "81ff4017",
   "metadata": {},
   "outputs": [],
   "source": [
    "#2. Calcular el costo del tiquete de entrada (tarifa)\n",
    "tarifa_plana = 10\n",
    "mensaje = \"\"\"El costo de tu entrada es de 10 dólares.\n",
    "No tuviste ningún descuento\"\"\"\n",
    "\n",
    "if edad >= 71:\n",
    "    tarifa = tarifa_plana - tarifa_plana*10/100\n",
    "    mensaje = f\"\"\"El costo de tu entrada es de {tarifa} dólares.\n",
    "Tu descuento fue del 10%.\"\"\"\n",
    "elif edad >= 56:\n",
    "    tarifa = tarifa_plana - tarifa_plana*5/100\n",
    "    mensaje = f\"\"\"El costo de tu entrada es de {tarifa} dólares.\n",
    "Tu descuento fue del 5%.\"\"\"\n",
    "elif (edad >= 5) and (edad <= 17):\n",
    "    tarifa = tarifa_plana - tarifa_plana*20/100\n",
    "    mensaje = f\"\"\"El costo de tu entrada es de {tarifa} dólares.\n",
    "Tu descuento fue del 20%.\"\"\"\n",
    "elif edad < 5:\n",
    "    tarifa = tarifa_plana - tarifa_plana*50/100\n",
    "    mensaje = f\"\"\"El costo de tu entrada es de {tarifa} dólares.\n",
    "Tu descuento fue del 50%.\"\"\"   "
   ]
  },
  {
   "cell_type": "code",
   "execution_count": 4,
   "id": "e4d1bd7d",
   "metadata": {},
   "outputs": [
    {
     "name": "stdout",
     "output_type": "stream",
     "text": [
      "El costo de tu entrada es de 9.5 dólares.\n",
      "Tu descuento fue del 5%.\n"
     ]
    }
   ],
   "source": [
    "# 3. Imprimir en pantalla el mensaje\n",
    "print(mensaje)"
   ]
  },
  {
   "cell_type": "code",
   "execution_count": null,
   "id": "f7f185cd",
   "metadata": {},
   "outputs": [],
   "source": []
  },
  {
   "cell_type": "code",
   "execution_count": null,
   "id": "3bf68de6",
   "metadata": {},
   "outputs": [],
   "source": []
  },
  {
   "cell_type": "code",
   "execution_count": null,
   "id": "dcfd0a6d",
   "metadata": {},
   "outputs": [],
   "source": []
  }
 ],
 "metadata": {
  "kernelspec": {
   "display_name": "Python 3 (ipykernel)",
   "language": "python",
   "name": "python3"
  },
  "language_info": {
   "codemirror_mode": {
    "name": "ipython",
    "version": 3
   },
   "file_extension": ".py",
   "mimetype": "text/x-python",
   "name": "python",
   "nbconvert_exporter": "python",
   "pygments_lexer": "ipython3",
   "version": "3.11.4"
  }
 },
 "nbformat": 4,
 "nbformat_minor": 5
}
