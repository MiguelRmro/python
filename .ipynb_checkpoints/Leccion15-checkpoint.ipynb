{
 "cells": [
  {
   "cell_type": "markdown",
   "id": "7757d6ca",
   "metadata": {},
   "source": [
    "# LA SENTECIA FOR\n",
    "### A diferencia de la sentencia while, en donde la condición se repetía un número de veces que dependía de la condición, en este caso la sentencia for permite ejecutar cíclicamente una porción de código un número pre-establecido de veces"
   ]
  },
  {
   "cell_type": "markdown",
   "id": "fdcbce35",
   "metadata": {},
   "source": [
    "# ESTRUCTURA "
   ]
  },
  {
   "cell_type": "code",
   "execution_count": null,
   "id": "3beba318",
   "metadata": {},
   "outputs": [],
   "source": [
    "for variable in iterable:\n",
    "    # Línea 1 a ejecutar en cada iteración\n",
    "    # Línea 2 a ejecutar en cada iteración\n",
    "    # ...\n",
    "    # Línea n a ejecutar en cada iteración"
   ]
  },
  {
   "cell_type": "markdown",
   "id": "cfcb7444",
   "metadata": {},
   "source": [
    "# EJEMPLOS:"
   ]
  },
  {
   "cell_type": "code",
   "execution_count": 2,
   "id": "f091f49a",
   "metadata": {},
   "outputs": [
    {
     "name": "stdout",
     "output_type": "stream",
     "text": [
      "P\n",
      "Fin\n",
      "y\n",
      "Fin\n",
      "t\n",
      "Fin\n",
      "h\n",
      "Fin\n",
      "o\n",
      "Fin\n",
      "n\n",
      "Fin\n"
     ]
    }
   ],
   "source": [
    "# Ejemplo 1: imprimir cada letra de una palabra\n",
    "\n",
    "for letra in 'Python':\n",
    "    print(letra)\n",
    "    print('Fin')"
   ]
  },
  {
   "cell_type": "code",
   "execution_count": 5,
   "id": "774f60d7",
   "metadata": {},
   "outputs": [
    {
     "name": "stdout",
     "output_type": "stream",
     "text": [
      "0\n",
      "1\n",
      "2\n",
      "3\n",
      "4\n",
      "5\n",
      "6\n",
      "7\n",
      "8\n",
      "9\n"
     ]
    }
   ],
   "source": [
    "# Ejemplo 2: usando la función \"range\"\n",
    "\n",
    "for numero in range(10):\n",
    "    print(numero)"
   ]
  },
  {
   "cell_type": "code",
   "execution_count": 6,
   "id": "00d16cc3",
   "metadata": {},
   "outputs": [
    {
     "name": "stdout",
     "output_type": "stream",
     "text": [
      "1\n",
      "3\n",
      "5\n",
      "7\n",
      "9\n"
     ]
    }
   ],
   "source": [
    "for numero in range(1,22,2):\n",
    "    print(numero)"
   ]
  },
  {
   "cell_type": "code",
   "execution_count": 7,
   "id": "4c7a8472",
   "metadata": {},
   "outputs": [
    {
     "name": "stdout",
     "output_type": "stream",
     "text": [
      "Mes: 1. Saldo: 1008.0\n",
      "Mes: 2. Saldo: 1016.064\n",
      "Mes: 3. Saldo: 1024.192512\n",
      "Mes: 4. Saldo: 1032.3860520960002\n",
      "Mes: 5. Saldo: 1040.6451405127682\n",
      "Mes: 6. Saldo: 1048.9703016368703\n",
      "Mes: 7. Saldo: 1057.3620640499653\n",
      "Mes: 8. Saldo: 1065.820960562365\n",
      "Mes: 9. Saldo: 1074.347528246864\n",
      "Mes: 10. Saldo: 1082.942308472839\n",
      "Mes: 11. Saldo: 1091.6058469406216\n",
      "Mes: 12. Saldo: 1100.3386937161465\n"
     ]
    }
   ],
   "source": [
    "# Un ejemplo completo: supongamos que invertimos 1000 dólares en la bolsa.\n",
    "# El interés mensual es del 0.8%. Calcular el saldo después de un año\n",
    "# (12 meses)\n",
    "\n",
    "saldo = 1000\n",
    "interes = 0.8/100\n",
    "\n",
    "for mes in range(1,13):\n",
    "    # Actualizar el saldo\n",
    "    #saldo = saldo + saldo*interes\n",
    "    saldo += saldo*interes\n",
    "    \n",
    "    # Imprimir en pantalla el saldo actualizado y el mes\n",
    "    print(f'Mes: {mes}. Saldo: {saldo}')"
   ]
  },
  {
   "cell_type": "code",
   "execution_count": null,
   "id": "9e69145a",
   "metadata": {},
   "outputs": [],
   "source": []
  }
 ],
 "metadata": {
  "kernelspec": {
   "display_name": "Python 3 (ipykernel)",
   "language": "python",
   "name": "python3"
  },
  "language_info": {
   "codemirror_mode": {
    "name": "ipython",
    "version": 3
   },
   "file_extension": ".py",
   "mimetype": "text/x-python",
   "name": "python",
   "nbconvert_exporter": "python",
   "pygments_lexer": "ipython3",
   "version": "3.11.4"
  }
 },
 "nbformat": 4,
 "nbformat_minor": 5
}
