{
 "cells": [
  {
   "cell_type": "markdown",
   "id": "9f6b55d1",
   "metadata": {},
   "source": [
    "# USANDO UN NÚMERO ARBITRARIO DE ARGUMENTOS Y MÚLTIPLES VALORES DE RETORNO\n",
    "Hemos visto que las funciones en Python son muy flexibles: podemos presentar los argumentos de forma posicional, por pares nombre-valor o una combinación de las dos anteriores, e incluso podemos definir parámetros por defecto.\n",
    "\n",
    "En ocasiones no conocemos con antelación la cantidad de parámetros de entrada, o queremos retornar múltiples valores. Veamos cómo modificar nuestras funciones para incluir estas dos alternativas."
   ]
  },
  {
   "cell_type": "markdown",
   "id": "9cd0cb74",
   "metadata": {},
   "source": [
    "# Funciones con un número variable de argumentos"
   ]
  },
  {
   "cell_type": "code",
   "execution_count": 1,
   "id": "532343b8",
   "metadata": {},
   "outputs": [],
   "source": [
    "def adiciones_pizza(*adiciones):\n",
    "    print(adiciones)"
   ]
  },
  {
   "cell_type": "code",
   "execution_count": 2,
   "id": "6188e6de",
   "metadata": {},
   "outputs": [
    {
     "name": "stdout",
     "output_type": "stream",
     "text": [
      "('albahaca',)\n"
     ]
    }
   ],
   "source": [
    "adiciones_pizza('albahaca')"
   ]
  },
  {
   "cell_type": "code",
   "execution_count": 3,
   "id": "69949d75",
   "metadata": {},
   "outputs": [
    {
     "name": "stdout",
     "output_type": "stream",
     "text": [
      "('albahaca', 'pepperoni', 'jamón')\n"
     ]
    }
   ],
   "source": [
    "adiciones_pizza('albahaca', 'pepperoni', 'jamón')"
   ]
  },
  {
   "cell_type": "code",
   "execution_count": 4,
   "id": "0d76747d",
   "metadata": {},
   "outputs": [],
   "source": [
    "# Combinar argumentos por palabra clave y por posición\n",
    "# con múltiples argumentos\n",
    "def adiciones_pizza(base='queso y tomate', *adiciones):\n",
    "    print(f'Base: {base}')\n",
    "    print('Adiciones:')\n",
    "    for adicion in adiciones:\n",
    "        print(f'\\t{adicion}')"
   ]
  },
  {
   "cell_type": "code",
   "execution_count": 5,
   "id": "14e47374",
   "metadata": {},
   "outputs": [
    {
     "name": "stdout",
     "output_type": "stream",
     "text": [
      "Base: queso\n",
      "Adiciones:\n",
      "\talbahaca\n",
      "\tjamón\n"
     ]
    }
   ],
   "source": [
    "adiciones_pizza('queso','albahaca','jamón')"
   ]
  },
  {
   "cell_type": "markdown",
   "id": "b183f233",
   "metadata": {},
   "source": [
    "# Funciones con múltiples valores de retorno\n",
    "De igual forma, usando la misma palabra clave return, podemos hacer que Python retorne más de un valor."
   ]
  },
  {
   "cell_type": "code",
   "execution_count": 6,
   "id": "6efbd2b2",
   "metadata": {},
   "outputs": [],
   "source": [
    "def operaciones(*numeros):\n",
    "    suma = 0\n",
    "    resta = 0\n",
    "    multiplicacion = 1\n",
    "    for numero in numeros:\n",
    "        suma += numero\n",
    "        resta -= numero\n",
    "        multiplicacion *= numero\n",
    "    \n",
    "    return suma, resta, multiplicacion"
   ]
  },
  {
   "cell_type": "code",
   "execution_count": 7,
   "id": "9364f699",
   "metadata": {},
   "outputs": [
    {
     "name": "stdout",
     "output_type": "stream",
     "text": [
      "Suma: 33\n",
      "Resta: -33\n",
      "Multiplicación: 3780\n"
     ]
    }
   ],
   "source": [
    "res_sum, res_res, res_mul = operaciones(5,7,12,9)\n",
    "\n",
    "print(f'Suma: {res_sum}')\n",
    "print(f'Resta: {res_res}')\n",
    "print(f'Multiplicación: {res_mul}')"
   ]
  },
  {
   "cell_type": "code",
   "execution_count": null,
   "id": "06ac3d8e",
   "metadata": {},
   "outputs": [],
   "source": []
  }
 ],
 "metadata": {
  "kernelspec": {
   "display_name": "Python 3 (ipykernel)",
   "language": "python",
   "name": "python3"
  },
  "language_info": {
   "codemirror_mode": {
    "name": "ipython",
    "version": 3
   },
   "file_extension": ".py",
   "mimetype": "text/x-python",
   "name": "python",
   "nbconvert_exporter": "python",
   "pygments_lexer": "ipython3",
   "version": "3.11.4"
  }
 },
 "nbformat": 4,
 "nbformat_minor": 5
}
