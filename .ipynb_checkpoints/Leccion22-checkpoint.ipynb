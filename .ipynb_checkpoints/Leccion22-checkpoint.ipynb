{
 "cells": [
  {
   "cell_type": "markdown",
   "id": "44587d9d",
   "metadata": {},
   "source": [
    "# ¿HASTA DÓNDE LLEGA UNA VARIABLE EN UNA FUNCIÓN?: REGLAS DE ALCANCE\n",
    "El alcance define la accesibilidad que tendrá una variable en nuestra función y en relación con el código que estemos implementando.\n",
    "\n",
    "Dependiendo de esto el alcance puede ser local o global. Veamos en qué consiste"
   ]
  },
  {
   "cell_type": "markdown",
   "id": "6c14096a",
   "metadata": {},
   "source": [
    "# Alcance local\n",
    "Son todas las variables definidas al interior de la función. Una vez culmine la ejecución de ésta la variable quedará fuera de alcance (es borrada de memoria y no podremos cambiarla desde fuera de la función)."
   ]
  },
  {
   "cell_type": "code",
   "execution_count": 1,
   "id": "f9a6cbb4",
   "metadata": {},
   "outputs": [
    {
     "name": "stdout",
     "output_type": "stream",
     "text": [
      "Al interior de la función. El valor de y (var. local) es:  5\n"
     ]
    },
    {
     "ename": "NameError",
     "evalue": "name 'y' is not defined",
     "output_type": "error",
     "traceback": [
      "\u001b[1;31m---------------------------------------------------------------------------\u001b[0m",
      "\u001b[1;31mNameError\u001b[0m                                 Traceback (most recent call last)",
      "Cell \u001b[1;32mIn[1], line 6\u001b[0m\n\u001b[0;32m      3\u001b[0m     \u001b[38;5;28mprint\u001b[39m(\u001b[38;5;124m'\u001b[39m\u001b[38;5;124mAl interior de la función. El valor de y (var. local) es: \u001b[39m\u001b[38;5;124m'\u001b[39m, y)\n\u001b[0;32m      5\u001b[0m alcance_local()\n\u001b[1;32m----> 6\u001b[0m \u001b[38;5;28mprint\u001b[39m(\u001b[38;5;124m'\u001b[39m\u001b[38;5;124mFuera de la función. El valor de y es: \u001b[39m\u001b[38;5;124m'\u001b[39m, y)\n",
      "\u001b[1;31mNameError\u001b[0m: name 'y' is not defined"
     ]
    }
   ],
   "source": [
    "def alcance_local():\n",
    "    y = 5\n",
    "    print('Al interior de la función. El valor de y (var. local) es: ', y)\n",
    "\n",
    "alcance_local()\n",
    "print('Fuera de la función. El valor de y es: ', y)"
   ]
  },
  {
   "cell_type": "markdown",
   "id": "2469fdae",
   "metadata": {},
   "source": [
    "# Alcance global\n",
    "Son todas las variables definidas por fuera de una función y por tanto serán accesibles por dicha función siempre y cuando precedan la declaración de la misma."
   ]
  },
  {
   "cell_type": "code",
   "execution_count": 2,
   "id": "efdc55ad",
   "metadata": {},
   "outputs": [
    {
     "name": "stdout",
     "output_type": "stream",
     "text": [
      "Estamos dentro de la función: \n",
      "x (alcance global):  17\n",
      "y (alcance local): 5\n"
     ]
    }
   ],
   "source": [
    "x = 17\n",
    "\n",
    "def alcance_global():\n",
    "    y = 5\n",
    "    print('Estamos dentro de la función: ')\n",
    "    print('x (alcance global): ', x)\n",
    "    print('y (alcance local):', y)\n",
    "\n",
    "alcance_global()"
   ]
  },
  {
   "cell_type": "code",
   "execution_count": 3,
   "id": "7426c0e0",
   "metadata": {},
   "outputs": [
    {
     "name": "stdout",
     "output_type": "stream",
     "text": [
      "Valor de x antes de ejecutar la función:  17\n",
      "Valor de x al ejecutar la función 5\n",
      "Valor de x después de ejecutar la función 17\n"
     ]
    }
   ],
   "source": [
    "x = 17\n",
    "print('Valor de x antes de ejecutar la función: ', x)\n",
    "\n",
    "def alcance_global():\n",
    "    x = 5\n",
    "    print('Valor de x al ejecutar la función', x)\n",
    "\n",
    "alcance_global()\n",
    "print('Valor de x después de ejecutar la función', x)"
   ]
  },
  {
   "cell_type": "code",
   "execution_count": null,
   "id": "f08e5743",
   "metadata": {},
   "outputs": [],
   "source": []
  }
 ],
 "metadata": {
  "kernelspec": {
   "display_name": "Python 3 (ipykernel)",
   "language": "python",
   "name": "python3"
  },
  "language_info": {
   "codemirror_mode": {
    "name": "ipython",
    "version": 3
   },
   "file_extension": ".py",
   "mimetype": "text/x-python",
   "name": "python",
   "nbconvert_exporter": "python",
   "pygments_lexer": "ipython3",
   "version": "3.11.4"
  }
 },
 "nbformat": 4,
 "nbformat_minor": 5
}
