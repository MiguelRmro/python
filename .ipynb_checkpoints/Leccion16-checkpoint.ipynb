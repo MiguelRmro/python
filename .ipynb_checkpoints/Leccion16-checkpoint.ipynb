{
 "cells": [
  {
   "cell_type": "markdown",
   "id": "eedeb2f9",
   "metadata": {},
   "source": [
    "# SENTENCIAS BREAK Y CONTINUE\n",
    "## Estas sentencias permiten alterar el funcionamiento de los ciclos while y for permitiendo forzar su detención (con break) o evitar la ejecución del código para una iteración en particular (con continue)"
   ]
  },
  {
   "cell_type": "markdown",
   "id": "da782dd4",
   "metadata": {},
   "source": [
    "# Sentencia break + while"
   ]
  },
  {
   "cell_type": "code",
   "execution_count": null,
   "id": "cee50a86",
   "metadata": {},
   "outputs": [],
   "source": [
    "while condicion_while:\n",
    "    # Primera parte del código a ejecutar\n",
    "    # ...\n",
    "    \n",
    "    if condicion_break:\n",
    "        break\n",
    "    \n",
    "    # Segunda parte del código a ejecutar\n",
    "    # ...\n",
    "# Código a ejecutar DESPUÉS del while"
   ]
  },
  {
   "cell_type": "code",
   "execution_count": 11,
   "id": "e9683200",
   "metadata": {},
   "outputs": [
    {
     "name": "stdout",
     "output_type": "stream",
     "text": [
      "Ingrese el monto a retirar: 1000\n",
      "Día: 1. Saldo: 0\n",
      "Fin del programa.\n",
      "Ingrese el monto a retirar: 10\n",
      "Día: 1. Saldo: 990\n",
      "Fin del programa.\n",
      "Ingrese el monto a retirar: 1\n",
      "Día: 1. Saldo: 999\n",
      "Fin del programa.\n",
      "Ingrese el monto a retirar: 10000\n",
      "El monto del retiro supera el saldo\n",
      "Ingrese el monto a retirar: 1000\n",
      "Día: 2. Saldo: 0\n",
      "Fin del programa.\n",
      "Ingrese el monto a retirar: 10000000\n",
      "El monto del retiro supera el saldo\n"
     ]
    }
   ],
   "source": [
    "saldo = 1000\n",
    "dia = 0\n",
    "\n",
    "while saldo >= 0:\n",
    "    # Actualizar el día\n",
    "    dia += 1\n",
    "    \n",
    "    # Solicitar al usuario el monto a retirar\n",
    "    retiro = int(input('Ingrese el monto a retirar: '))\n",
    "    \n",
    "    # Agregar la sentencia break:\n",
    "    if retiro > saldo:\n",
    "        print('El monto del retiro supera el saldo')\n",
    "        break\n",
    "    \n",
    "    # Actualizar el saldo\n",
    "    saldo -= retiro\n",
    "    \n",
    "    # Imprimir en pantalla el día y el saldo\n",
    "    print(f'Día: {dia}. Saldo: {saldo}')\n",
    "    print('Fin del programa.')\n",
    "    saldo = 1000\n",
    "    dia = 0\n",
    "\n",
    "while saldo >= 0:\n",
    "    # Actualizar el día\n",
    "    dia += 1\n",
    "    \n",
    "    # Solicitar al usuario el monto a retirar\n",
    "    retiro = int(input('Ingrese el monto a retirar: '))\n",
    "    \n",
    "    # Agregar la sentencia break:\n",
    "    if retiro > saldo:\n",
    "        print('El monto del retiro supera el saldo')\n",
    "        break\n",
    "    \n",
    "    # Actualizar el saldo\n",
    "    saldo -= retiro\n",
    "    \n",
    "    # Imprimir en pantalla el día y el saldo\n",
    "    print(f'Día: {dia}. Saldo: {saldo}')\n",
    "    print('Fin del programa.')"
   ]
  },
  {
   "cell_type": "markdown",
   "id": "1d5de1aa",
   "metadata": {},
   "source": [
    "# Sentencia break + for"
   ]
  },
  {
   "cell_type": "code",
   "execution_count": null,
   "id": "bdad899b",
   "metadata": {},
   "outputs": [],
   "source": [
    "for variable in iterador:\n",
    "    # Primera parte del código a ejecutar\n",
    "    # ...\n",
    "    \n",
    "    if condicion_break:\n",
    "        break\n",
    "    \n",
    "    # Segunda parte del código a ejecutar\n",
    "    # ...\n",
    "# Código a ejecutar DESPUÉS del for"
   ]
  },
  {
   "cell_type": "code",
   "execution_count": 7,
   "id": "91b6925a",
   "metadata": {},
   "outputs": [
    {
     "name": "stdout",
     "output_type": "stream",
     "text": [
      "P\n",
      "---------\n",
      "y\n",
      "---------\n",
      "t\n",
      "---------\n",
      "h\n",
      "Hemos llegado a la letra h. Se detendrá la ejecución del ciclo\n",
      "Fin del programa\n"
     ]
    }
   ],
   "source": [
    "for letra in 'Python':\n",
    "    # Imprimir cada letra\n",
    "    print(letra)\n",
    "    \n",
    "    # Introducir break: detener ejecución del loop si la letra es la \"h\"\n",
    "    if letra=='h':\n",
    "        print('Hemos llegado a la letra h. Se detendrá la ejecución del ciclo')\n",
    "        break\n",
    "    \n",
    "    # Imprimir un separador\n",
    "    print('---------')\n",
    "print('Fin del programa')"
   ]
  },
  {
   "cell_type": "markdown",
   "id": "413f7e0b",
   "metadata": {},
   "source": [
    "# Sentencia continue + while"
   ]
  },
  {
   "cell_type": "code",
   "execution_count": null,
   "id": "8b03e044",
   "metadata": {},
   "outputs": [],
   "source": [
    "while condicion_while:\n",
    "    # Primera parte del código a ejecutar\n",
    "    # ...\n",
    "    \n",
    "    if condicion_continue:\n",
    "        continue\n",
    "    \n",
    "    # Segunda parte del código a ejecutar\n",
    "    # ...\n",
    "# Código a ejecutar DESPUÉS del while"
   ]
  },
  {
   "cell_type": "code",
   "execution_count": 9,
   "id": "79a91a53",
   "metadata": {},
   "outputs": [
    {
     "name": "stdout",
     "output_type": "stream",
     "text": [
      "Ingrese el monto a retirar: 1000\n",
      "Día: 1. Saldo: 0\n",
      "Ingrese el monto a retirar: 1000\n",
      "El monto del retiro supera el saldo disponible\n",
      "Fin del programa.\n"
     ]
    }
   ],
   "source": [
    "saldo = 1000\n",
    "dia = 0\n",
    "\n",
    "while saldo >= 0:\n",
    "    # Actualizar día\n",
    "    dia += 1\n",
    "    \n",
    "    # Introducir el monto del retiro\n",
    "    retiro = int(input('Ingrese el monto a retirar: '))\n",
    "    \n",
    "    # Agregar el break del ejemplo anterior para evitar retirar\n",
    "    # un monto mayor al saldo\n",
    "    if retiro > saldo:\n",
    "        print('El monto del retiro supera el saldo disponible')\n",
    "        break\n",
    "    \n",
    "    # No permitir al usuario retirar dinero en el día 3\n",
    "    if dia == 3:\n",
    "        print('Su cuenta está en mantenimiento. No puede retirar dinero')\n",
    "        continue\n",
    "    \n",
    "    # Actualizar el saldo\n",
    "    saldo -= retiro\n",
    "    \n",
    "    # Imprimir día y saldo\n",
    "    print(f'Día: {dia}. Saldo: {saldo}')\n",
    "print('Fin del programa.')"
   ]
  },
  {
   "cell_type": "markdown",
   "id": "e06225a4",
   "metadata": {},
   "source": [
    "# Sentencia continue + for"
   ]
  },
  {
   "cell_type": "code",
   "execution_count": 12,
   "id": "7065fc07",
   "metadata": {},
   "outputs": [
    {
     "ename": "NameError",
     "evalue": "name 'iterador' is not defined",
     "output_type": "error",
     "traceback": [
      "\u001b[1;31m---------------------------------------------------------------------------\u001b[0m",
      "\u001b[1;31mNameError\u001b[0m                                 Traceback (most recent call last)",
      "Cell \u001b[1;32mIn[12], line 1\u001b[0m\n\u001b[1;32m----> 1\u001b[0m \u001b[38;5;28;01mfor\u001b[39;00m variable \u001b[38;5;129;01min\u001b[39;00m iterador:\n\u001b[0;32m      2\u001b[0m     \u001b[38;5;66;03m# Primera parte del código a ejecutar\u001b[39;00m\n\u001b[0;32m      3\u001b[0m     \u001b[38;5;66;03m# ...\u001b[39;00m\n\u001b[0;32m      5\u001b[0m     \u001b[38;5;28;01mif\u001b[39;00m condicion_continue:\n\u001b[0;32m      6\u001b[0m         \u001b[38;5;28;01mcontinue\u001b[39;00m\n",
      "\u001b[1;31mNameError\u001b[0m: name 'iterador' is not defined"
     ]
    }
   ],
   "source": [
    "for variable in iterador:\n",
    "    # Primera parte del código a ejecutar\n",
    "    # ...\n",
    "    \n",
    "    if condicion_continue:\n",
    "        continue\n",
    "    \n",
    "    # Segunda parte del código a ejecutar\n",
    "    # ...\n",
    "# Código a ejecutar DESPUÉS del for"
   ]
  },
  {
   "cell_type": "code",
   "execution_count": null,
   "id": "31b7b1f0",
   "metadata": {},
   "outputs": [],
   "source": [
    "for letra in 'Python':\n",
    "    # Imprimir todas las letras exceptuando la letra t\n",
    "    if letra==\"t\":\n",
    "        print('Hemos llegado a la letra t y no será impresa')\n",
    "        continue\n",
    "    \n",
    "    # Imprimir letra\n",
    "    print(letra)\n",
    "    \n",
    "    # Imprimir el separador\n",
    "    print('-------')\n",
    "print('Fin del programa')"
   ]
  }
 ],
 "metadata": {
  "kernelspec": {
   "display_name": "Python 3 (ipykernel)",
   "language": "python",
   "name": "python3"
  },
  "language_info": {
   "codemirror_mode": {
    "name": "ipython",
    "version": 3
   },
   "file_extension": ".py",
   "mimetype": "text/x-python",
   "name": "python",
   "nbconvert_exporter": "python",
   "pygments_lexer": "ipython3",
   "version": "3.11.4"
  }
 },
 "nbformat": 4,
 "nbformat_minor": 5
}
