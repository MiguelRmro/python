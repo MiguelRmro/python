{
 "cells": [
  {
   "cell_type": "markdown",
   "id": "32c20a2a",
   "metadata": {},
   "source": [
    "# VARIABLES Y REGLAS BASICAS"
   ]
  },
  {
   "cell_type": "markdown",
   "id": "9cf829f9",
   "metadata": {},
   "source": [
    "# 1- Variables\n",
    "### Una variable permite almacenar en memoria un dato (string, int, float, bool, etc.) para ser usado más adelante en el programa"
   ]
  },
  {
   "cell_type": "code",
   "execution_count": 1,
   "id": "2e838bc8",
   "metadata": {},
   "outputs": [],
   "source": [
    "texto = \"Este es un ejemplo de texto\""
   ]
  },
  {
   "cell_type": "code",
   "execution_count": 2,
   "id": "31338140",
   "metadata": {},
   "outputs": [],
   "source": [
    "#Caracteristicas de las variables\n",
    "# 1. Valor\n",
    "# 2. Tipo de Dato\n",
    "# 3. \"id\": posición /direccion en memoria"
   ]
  },
  {
   "cell_type": "code",
   "execution_count": 3,
   "id": "3f4309a1",
   "metadata": {},
   "outputs": [
    {
     "data": {
      "text/plain": [
       "2431158163200"
      ]
     },
     "execution_count": 3,
     "metadata": {},
     "output_type": "execute_result"
    }
   ],
   "source": [
    "id(texto)"
   ]
  },
  {
   "cell_type": "code",
   "execution_count": 4,
   "id": "8bd68a99",
   "metadata": {},
   "outputs": [
    {
     "data": {
      "text/plain": [
       "2431158373952"
      ]
     },
     "execution_count": 4,
     "metadata": {},
     "output_type": "execute_result"
    }
   ],
   "source": [
    "texto2 = 'Ejemplo dos de texto'\n",
    "id(texto2)"
   ]
  },
  {
   "cell_type": "code",
   "execution_count": 5,
   "id": "8390b33c",
   "metadata": {},
   "outputs": [
    {
     "data": {
      "text/plain": [
       "str"
      ]
     },
     "execution_count": 5,
     "metadata": {},
     "output_type": "execute_result"
    }
   ],
   "source": [
    "type(texto)"
   ]
  },
  {
   "cell_type": "code",
   "execution_count": 6,
   "id": "fe859c77",
   "metadata": {},
   "outputs": [
    {
     "data": {
      "text/plain": [
       "'ESTE ES UN EJEMPLO DE TEXTO'"
      ]
     },
     "execution_count": 6,
     "metadata": {},
     "output_type": "execute_result"
    }
   ],
   "source": [
    "texto.upper()"
   ]
  },
  {
   "cell_type": "code",
   "execution_count": 7,
   "id": "6b4efe3b",
   "metadata": {},
   "outputs": [
    {
     "data": {
      "text/plain": [
       "'este es un ejemplo de texto'"
      ]
     },
     "execution_count": 7,
     "metadata": {},
     "output_type": "execute_result"
    }
   ],
   "source": [
    "texto.lower()"
   ]
  },
  {
   "cell_type": "code",
   "execution_count": 8,
   "id": "e6a3efed",
   "metadata": {},
   "outputs": [],
   "source": [
    "texto.capitalize?"
   ]
  },
  {
   "cell_type": "code",
   "execution_count": 9,
   "id": "962cb413",
   "metadata": {},
   "outputs": [
    {
     "data": {
      "text/plain": [
       "False"
      ]
     },
     "execution_count": 9,
     "metadata": {},
     "output_type": "execute_result"
    }
   ],
   "source": [
    "texto.startswith('F')"
   ]
  },
  {
   "cell_type": "code",
   "execution_count": 10,
   "id": "423071bb",
   "metadata": {},
   "outputs": [
    {
     "data": {
      "text/plain": [
       "True"
      ]
     },
     "execution_count": 10,
     "metadata": {},
     "output_type": "execute_result"
    }
   ],
   "source": [
    "texto.startswith('E')"
   ]
  },
  {
   "cell_type": "code",
   "execution_count": 11,
   "id": "682b11c6",
   "metadata": {},
   "outputs": [
    {
     "data": {
      "text/plain": [
       "complex"
      ]
     },
     "execution_count": 11,
     "metadata": {},
     "output_type": "execute_result"
    }
   ],
   "source": [
    "# Atributos\n",
    "c = 5 + 2j\n",
    "type(c)"
   ]
  },
  {
   "cell_type": "code",
   "execution_count": 12,
   "id": "1e18a334",
   "metadata": {},
   "outputs": [
    {
     "data": {
      "text/plain": [
       "5.0"
      ]
     },
     "execution_count": 12,
     "metadata": {},
     "output_type": "execute_result"
    }
   ],
   "source": [
    "c.real # Atributo parte real"
   ]
  },
  {
   "cell_type": "code",
   "execution_count": 13,
   "id": "19a3cc82",
   "metadata": {},
   "outputs": [
    {
     "data": {
      "text/plain": [
       "2.0"
      ]
     },
     "execution_count": 13,
     "metadata": {},
     "output_type": "execute_result"
    }
   ],
   "source": [
    "c.imag # Atributo parte imaginaria"
   ]
  },
  {
   "cell_type": "code",
   "execution_count": 14,
   "id": "2d1ccb69",
   "metadata": {},
   "outputs": [
    {
     "data": {
      "text/plain": [
       "<function complex.conjugate()>"
      ]
     },
     "execution_count": 14,
     "metadata": {},
     "output_type": "execute_result"
    }
   ],
   "source": [
    "c.conjugate"
   ]
  },
  {
   "cell_type": "code",
   "execution_count": 15,
   "id": "60392343",
   "metadata": {},
   "outputs": [
    {
     "data": {
      "text/plain": [
       "(5-2j)"
      ]
     },
     "execution_count": 15,
     "metadata": {},
     "output_type": "execute_result"
    }
   ],
   "source": [
    "c.conjugate() # Método conjugada"
   ]
  },
  {
   "cell_type": "markdown",
   "id": "59adcb6e",
   "metadata": {},
   "source": [
    "# 2- Algunas reglas básicas"
   ]
  },
  {
   "cell_type": "markdown",
   "id": "a77f9015",
   "metadata": {},
   "source": [
    "### 1. Pueden contener letras, números y _ pero NO pueden comenzar con número. Ejemplo: texto_1 es válido, pero 1_texto ó texto 1 NO son válidas"
   ]
  },
  {
   "cell_type": "markdown",
   "id": "00c8ae14",
   "metadata": {},
   "source": [
    "### 2. Python distingue entre mayúsculas y minúsculas. entero es diferente ENTERO ó Entero"
   ]
  },
  {
   "cell_type": "code",
   "execution_count": null,
   "id": "e297e88b",
   "metadata": {},
   "outputs": [],
   "source": []
  },
  {
   "cell_type": "code",
   "execution_count": null,
   "id": "523b77c5",
   "metadata": {},
   "outputs": [],
   "source": []
  },
  {
   "cell_type": "markdown",
   "id": "af2b6484",
   "metadata": {},
   "source": [
    "### 3. Se debe evitar usar nombres de variables que coincidan con nombres de funciones o palabras reservadas de Python. Ejemplo: id, type, list, etc. Para un listado completo ver el listado completo de funciones y el listado completo de palabras reservadas"
   ]
  },
  {
   "cell_type": "code",
   "execution_count": 16,
   "id": "e9211380",
   "metadata": {},
   "outputs": [],
   "source": [
    "variable = 5"
   ]
  },
  {
   "cell_type": "markdown",
   "id": "4f56af11",
   "metadata": {},
   "source": [
    "### 4. Los nombres de las variables deben ser descriptivos. Es mejor usar nombre_estudiante en lugar de n_s"
   ]
  },
  {
   "cell_type": "code",
   "execution_count": null,
   "id": "1eae54a8",
   "metadata": {},
   "outputs": [],
   "source": []
  }
 ],
 "metadata": {
  "kernelspec": {
   "display_name": "Python 3 (ipykernel)",
   "language": "python",
   "name": "python3"
  },
  "language_info": {
   "codemirror_mode": {
    "name": "ipython",
    "version": 3
   },
   "file_extension": ".py",
   "mimetype": "text/x-python",
   "name": "python",
   "nbconvert_exporter": "python",
   "pygments_lexer": "ipython3",
   "version": "3.11.4"
  }
 },
 "nbformat": 4,
 "nbformat_minor": 5
}
