{
 "cells": [
  {
   "cell_type": "markdown",
   "id": "32cb1444",
   "metadata": {},
   "source": [
    "# Tipos de Datos \n",
    "## 1. String "
   ]
  },
  {
   "cell_type": "code",
   "execution_count": 1,
   "id": "5bd3b4bf",
   "metadata": {},
   "outputs": [],
   "source": [
    "texto1 = \"Este es un ejemplo de texto\""
   ]
  },
  {
   "cell_type": "code",
   "execution_count": 2,
   "id": "43a495d5",
   "metadata": {},
   "outputs": [
    {
     "data": {
      "text/plain": [
       "str"
      ]
     },
     "execution_count": 2,
     "metadata": {},
     "output_type": "execute_result"
    }
   ],
   "source": [
    "type(texto1)"
   ]
  },
  {
   "cell_type": "code",
   "execution_count": 3,
   "id": "fdd2b83d",
   "metadata": {},
   "outputs": [],
   "source": [
    "texto2 = 'Este es un segundo texto'"
   ]
  },
  {
   "cell_type": "code",
   "execution_count": 4,
   "id": "4a9a63cd",
   "metadata": {},
   "outputs": [
    {
     "data": {
      "text/plain": [
       "str"
      ]
     },
     "execution_count": 4,
     "metadata": {},
     "output_type": "execute_result"
    }
   ],
   "source": [
    "type(texto2)"
   ]
  },
  {
   "cell_type": "code",
   "execution_count": 5,
   "id": "78e7b702",
   "metadata": {},
   "outputs": [],
   "source": [
    "texto3 = 'Este es un tercer ejemplo, con un \"texto entre comillas\"'"
   ]
  },
  {
   "cell_type": "code",
   "execution_count": 6,
   "id": "8d83f927",
   "metadata": {},
   "outputs": [
    {
     "data": {
      "text/plain": [
       "str"
      ]
     },
     "execution_count": 6,
     "metadata": {},
     "output_type": "execute_result"
    }
   ],
   "source": [
    "type(texto3)"
   ]
  },
  {
   "cell_type": "code",
   "execution_count": 7,
   "id": "588867e7",
   "metadata": {},
   "outputs": [
    {
     "name": "stdout",
     "output_type": "stream",
     "text": [
      "Este es un tercer ejemplo, con un \"texto entre comillas\"\n"
     ]
    }
   ],
   "source": [
    "print(texto3)"
   ]
  },
  {
   "cell_type": "code",
   "execution_count": 8,
   "id": "c8586a61",
   "metadata": {},
   "outputs": [],
   "source": [
    "texto = texto1 +  ' ' + texto2 + ' ' + texto3"
   ]
  },
  {
   "cell_type": "code",
   "execution_count": 9,
   "id": "756ee0eb",
   "metadata": {},
   "outputs": [
    {
     "name": "stdout",
     "output_type": "stream",
     "text": [
      "Este es un ejemplo de texto Este es un segundo texto Este es un tercer ejemplo, con un \"texto entre comillas\"\n"
     ]
    }
   ],
   "source": [
    "print(texto)"
   ]
  },
  {
   "cell_type": "code",
   "execution_count": 10,
   "id": "cc57a554",
   "metadata": {},
   "outputs": [
    {
     "name": "stdout",
     "output_type": "stream",
     "text": [
      "Línea 1\n",
      "Línea 2\n",
      "Línea 3\n"
     ]
    }
   ],
   "source": [
    "# Caracteres de escape\n",
    "texto4 = 'Línea 1\\nLínea 2\\nLínea 3'\n",
    "print(texto4)"
   ]
  },
  {
   "cell_type": "code",
   "execution_count": 11,
   "id": "4c7789ba",
   "metadata": {},
   "outputs": [
    {
     "name": "stdout",
     "output_type": "stream",
     "text": [
      "Primera parte\tsegunda parte\t\t\tterceraparte\n"
     ]
    }
   ],
   "source": [
    "texto5 = \"Primera parte\\tsegunda parte\\t\\t\\tterceraparte\"\n",
    "print(texto5)"
   ]
  },
  {
   "cell_type": "markdown",
   "id": "a529ec1f",
   "metadata": {},
   "source": [
    "# 2. Numeros"
   ]
  },
  {
   "cell_type": "code",
   "execution_count": 12,
   "id": "4bdbbb10",
   "metadata": {},
   "outputs": [
    {
     "data": {
      "text/plain": [
       "int"
      ]
     },
     "execution_count": 12,
     "metadata": {},
     "output_type": "execute_result"
    }
   ],
   "source": [
    "#Tipo entero\n",
    "a = 5 \n",
    "type(a)"
   ]
  },
  {
   "cell_type": "code",
   "execution_count": 14,
   "id": "5ee49199",
   "metadata": {},
   "outputs": [
    {
     "data": {
      "text/plain": [
       "float"
      ]
     },
     "execution_count": 14,
     "metadata": {},
     "output_type": "execute_result"
    }
   ],
   "source": [
    "# Tipo decimal\n",
    "b = 19.43\n",
    "type(b)"
   ]
  },
  {
   "cell_type": "code",
   "execution_count": 15,
   "id": "621ca663",
   "metadata": {},
   "outputs": [
    {
     "data": {
      "text/plain": [
       "complex"
      ]
     },
     "execution_count": 15,
     "metadata": {},
     "output_type": "execute_result"
    }
   ],
   "source": [
    "# Tipo complejos\n",
    "c = 5 + 2j\n",
    "type(c)"
   ]
  },
  {
   "cell_type": "markdown",
   "id": "83c9a897",
   "metadata": {},
   "source": [
    "# 3. Booleanos\n"
   ]
  },
  {
   "cell_type": "code",
   "execution_count": 16,
   "id": "e8de5290",
   "metadata": {},
   "outputs": [
    {
     "data": {
      "text/plain": [
       "bool"
      ]
     },
     "execution_count": 16,
     "metadata": {},
     "output_type": "execute_result"
    }
   ],
   "source": [
    "verdadera = True\n",
    "type(verdadera)"
   ]
  },
  {
   "cell_type": "code",
   "execution_count": 17,
   "id": "b6e1fdb4",
   "metadata": {},
   "outputs": [
    {
     "data": {
      "text/plain": [
       "bool"
      ]
     },
     "execution_count": 17,
     "metadata": {},
     "output_type": "execute_result"
    }
   ],
   "source": [
    "falsa = False\n",
    "type(falsa)"
   ]
  },
  {
   "cell_type": "code",
   "execution_count": 19,
   "id": "f923b5ca",
   "metadata": {},
   "outputs": [
    {
     "name": "stdout",
     "output_type": "stream",
     "text": [
      "Variable    Type       Data/Info\n",
      "--------------------------------\n",
      "a           int        5\n",
      "b           float      19.43\n",
      "c           complex    (5+2j)\n",
      "falsa       bool       False\n",
      "texto       str        Este es un ejemplo de tex<...>un \"texto entre comillas\"\n",
      "texto1      str        Este es un ejemplo de texto\n",
      "texto2      str        Este es un segundo texto\n",
      "texto3      str        Este es un tercer ejemplo<...>un \"texto entre comillas\"\n",
      "texto4      str        Línea 1\\nLínea 2\\nLínea 3\n",
      "texto5      str        Primera parte\tsegunda parte\t\t\tterceraparte\n",
      "verdadera   bool       True\n"
     ]
    }
   ],
   "source": [
    "%whos"
   ]
  },
  {
   "cell_type": "code",
   "execution_count": null,
   "id": "ce74d720",
   "metadata": {},
   "outputs": [],
   "source": []
  }
 ],
 "metadata": {
  "kernelspec": {
   "display_name": "Python 3 (ipykernel)",
   "language": "python",
   "name": "python3"
  },
  "language_info": {
   "codemirror_mode": {
    "name": "ipython",
    "version": 3
   },
   "file_extension": ".py",
   "mimetype": "text/x-python",
   "name": "python",
   "nbconvert_exporter": "python",
   "pygments_lexer": "ipython3",
   "version": "3.11.4"
  }
 },
 "nbformat": 4,
 "nbformat_minor": 5
}
