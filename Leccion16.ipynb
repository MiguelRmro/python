{
 "cells": [
  {
   "cell_type": "markdown",
   "id": "85baa63b",
   "metadata": {},
   "source": [
    "# SENTENCIAS BREAK Y CONTINUE\n",
    "## Estas sentencias permiten alterar el funcionamiento de los ciclos while y for permitiendo forzar su detención (con break) o evitar la ejecución del código para una iteración en particular (con continue)"
   ]
  },
  {
   "cell_type": "markdown",
   "id": "2847fec9",
   "metadata": {},
   "source": [
    "# Sentencia break + while"
   ]
  },
  {
   "cell_type": "code",
   "execution_count": null,
   "id": "0abc16ae",
   "metadata": {},
   "outputs": [],
   "source": [
    "while condicion_while:\n",
    "    # Primera parte del código a ejecutar\n",
    "    # ...\n",
    "    \n",
    "    if condicion_break:\n",
    "        break\n",
    "    \n",
    "    # Segunda parte del código a ejecutar\n",
    "    # ...\n",
    "# Código a ejecutar DESPUÉS del while"
   ]
  },
  {
   "cell_type": "code",
   "execution_count": null,
   "id": "e3f2e51c",
   "metadata": {},
   "outputs": [],
   "source": [
    "saldo = 1000\n",
    "dia = 0\n",
    "\n",
    "while saldo >= 0:\n",
    "    # Actualizar el día\n",
    "    dia += 1\n",
    "    \n",
    "    # Solicitar al usuario el monto a retirar\n",
    "    retiro = int(input('Ingrese el monto a retirar: '))\n",
    "    \n",
    "    # Agregar la sentencia break:\n",
    "    if retiro > saldo:\n",
    "        print('El monto del retiro supera el saldo')\n",
    "        break\n",
    "    \n",
    "    # Actualizar el saldo\n",
    "    saldo -= retiro\n",
    "    \n",
    "    # Imprimir en pantalla el día y el saldo\n",
    "    print(f'Día: {dia}. Saldo: {saldo}')\n",
    "    print('Fin del programa.')\n",
    "    saldo = 1000\n",
    "    dia = 0\n",
    "\n",
    "while saldo >= 0:\n",
    "    # Actualizar el día\n",
    "    dia += 1\n",
    "    \n",
    "    # Solicitar al usuario el monto a retirar\n",
    "    retiro = int(input('Ingrese el monto a retirar: '))\n",
    "    \n",
    "    # Agregar la sentencia break:\n",
    "    if retiro > saldo:\n",
    "        print('El monto del retiro supera el saldo')\n",
    "        break\n",
    "    \n",
    "    # Actualizar el saldo\n",
    "    saldo -= retiro\n",
    "    \n",
    "    # Imprimir en pantalla el día y el saldo\n",
    "    print(f'Día: {dia}. Saldo: {saldo}')\n",
    "    print('Fin del programa.')"
   ]
  },
  {
   "cell_type": "markdown",
   "id": "6aa8dc54",
   "metadata": {},
   "source": [
    "# Sentencia break + for"
   ]
  },
  {
   "cell_type": "code",
   "execution_count": null,
   "id": "48ef1777",
   "metadata": {},
   "outputs": [],
   "source": [
    "for variable in iterador:\n",
    "    # Primera parte del código a ejecutar\n",
    "    # ...\n",
    "    \n",
    "    if condicion_break:\n",
    "        break\n",
    "    \n",
    "    # Segunda parte del código a ejecutar\n",
    "    # ...\n",
    "# Código a ejecutar DESPUÉS del for"
   ]
  },
  {
   "cell_type": "code",
   "execution_count": null,
   "id": "75f04084",
   "metadata": {},
   "outputs": [],
   "source": [
    "for letra in 'Python':\n",
    "    # Imprimir cada letra\n",
    "    print(letra)\n",
    "    \n",
    "    # Introducir break: detener ejecución del loop si la letra es la \"h\"\n",
    "    if letra=='h':\n",
    "        print('Hemos llegado a la letra h. Se detendrá la ejecución del ciclo')\n",
    "        break\n",
    "    \n",
    "    # Imprimir un separador\n",
    "    print('---------')\n",
    "print('Fin del programa')"
   ]
  },
  {
   "cell_type": "markdown",
   "id": "9f321f52",
   "metadata": {},
   "source": [
    "# Sentencia continue + while"
   ]
  },
  {
   "cell_type": "code",
   "execution_count": null,
   "id": "bd9f354d",
   "metadata": {},
   "outputs": [],
   "source": [
    "while condicion_while:\n",
    "    # Primera parte del código a ejecutar\n",
    "    # ...\n",
    "    \n",
    "    if condicion_continue:\n",
    "        continue\n",
    "    \n",
    "    # Segunda parte del código a ejecutar\n",
    "    # ...\n",
    "# Código a ejecutar DESPUÉS del while"
   ]
  },
  {
   "cell_type": "code",
   "execution_count": null,
   "id": "4f5c7c5c",
   "metadata": {},
   "outputs": [],
   "source": [
    "saldo = 1000\n",
    "dia = 0\n",
    "\n",
    "while saldo >= 0:\n",
    "    # Actualizar día\n",
    "    dia += 1\n",
    "    \n",
    "    # Introducir el monto del retiro\n",
    "    retiro = int(input('Ingrese el monto a retirar: '))\n",
    "    \n",
    "    # Agregar el break del ejemplo anterior para evitar retirar\n",
    "    # un monto mayor al saldo\n",
    "    if retiro > saldo:\n",
    "        print('El monto del retiro supera el saldo disponible')\n",
    "        break\n",
    "    \n",
    "    # No permitir al usuario retirar dinero en el día 3\n",
    "    if dia == 3:\n",
    "        print('Su cuenta está en mantenimiento. No puede retirar dinero')\n",
    "        continue\n",
    "    \n",
    "    # Actualizar el saldo\n",
    "    saldo -= retiro\n",
    "    \n",
    "    # Imprimir día y saldo\n",
    "    print(f'Día: {dia}. Saldo: {saldo}')\n",
    "print('Fin del programa.')"
   ]
  },
  {
   "cell_type": "markdown",
   "id": "a0febf8d",
   "metadata": {},
   "source": [
    "# Sentencia continue + for"
   ]
  },
  {
   "cell_type": "code",
   "execution_count": null,
   "id": "20f2b01e",
   "metadata": {},
   "outputs": [],
   "source": [
    "for variable in iterador:\n",
    "    # Primera parte del código a ejecutar\n",
    "    # ...\n",
    "    \n",
    "    if condicion_continue:\n",
    "        continue\n",
    "    \n",
    "    # Segunda parte del código a ejecutar\n",
    "    # ...\n",
    "# Código a ejecutar DESPUÉS del for"
   ]
  },
  {
   "cell_type": "code",
   "execution_count": null,
   "id": "8d66c808",
   "metadata": {},
   "outputs": [],
   "source": [
    "for letra in 'Python':\n",
    "    # Imprimir todas las letras exceptuando la letra t\n",
    "    if letra==\"t\":\n",
    "        print('Hemos llegado a la letra t y no será impresa')\n",
    "        continue\n",
    "    \n",
    "    # Imprimir letra\n",
    "    print(letra)\n",
    "    \n",
    "    # Imprimir el separador\n",
    "    print('-------')\n",
    "print('Fin del programa')"
   ]
  },
  {
   "cell_type": "code",
   "execution_count": null,
   "id": "9a2377b0",
   "metadata": {},
   "outputs": [],
   "source": []
  }
 ],
 "metadata": {
  "kernelspec": {
   "display_name": "Python 3 (ipykernel)",
   "language": "python",
   "name": "python3"
  },
  "language_info": {
   "codemirror_mode": {
    "name": "ipython",
    "version": 3
   },
   "file_extension": ".py",
   "mimetype": "text/x-python",
   "name": "python",
   "nbconvert_exporter": "python",
   "pygments_lexer": "ipython3",
   "version": "3.11.4"
  }
 },
 "nbformat": 4,
 "nbformat_minor": 5
}
